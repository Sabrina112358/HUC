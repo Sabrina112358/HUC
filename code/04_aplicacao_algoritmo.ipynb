{
 "cells": [
  {
   "attachments": {},
   "cell_type": "markdown",
   "metadata": {},
   "source": [
    "## <b>1.1 <span style='color:#5296a5'>|</span> Importando pacotes usados </b> <a class=\"anchor\" id=\"1.1\"></a>"
   ]
  },
  {
   "cell_type": "code",
   "execution_count": null,
   "metadata": {},
   "outputs": [],
   "source": [
    "import numpy as np\n",
    "import pandas as pd\n",
    "import plotly.express as px\n",
    "from plotly.subplots import make_subplots\n",
    "import plotly.graph_objects as go\n",
    "import plotly.io as pio"
   ]
  },
  {
   "attachments": {},
   "cell_type": "markdown",
   "metadata": {},
   "source": [
    "## <b>1.2 <span style='color:#5296a5'>|</span> Funções usadas </b> <a class=\"anchor\" id=\"1.2\"></a>\n"
   ]
  },
  {
   "attachments": {},
   "cell_type": "markdown",
   "metadata": {},
   "source": [
    "## <b>1.3 <span style='color:#5296a5'>|</span> Legendas dos mapas de acordo com os valores de pixel </b> <a class=\"anchor\" id=\"1.3\"></a>"
   ]
  },
  {
   "cell_type": "code",
   "execution_count": null,
   "metadata": {},
   "outputs": [],
   "source": [
    "mapbiomas_col7_legenda = {\n",
    "    1 : \"Floresta\",\n",
    "    3 : \"Formação Florestal\",\n",
    "    4 : \"Formação Savânica\",\n",
    "    5 : \"Mangue\",\n",
    "    49 : \"Restinga Arborizada\",\n",
    "    10 : \"Formação Natural não Florestal\",\n",
    "    11 : \"Campo Alagado e Área Pantanosa\",\n",
    "    12 : \"Formação Campestre\",\n",
    "    32 : \"Apicum\",\n",
    "    29 : \"Afloramento Rochoso\",\n",
    "    50 : \"Restinga Herbácea\",\n",
    "    13 : \"Outras Formações não Florestais\",\n",
    "    14 : \"Agropecuária\",\n",
    "    15 : \"Pastagem\",\n",
    "    18 : \"Agricultura\",\n",
    "    19 : \"Lavoura Temporária\",\n",
    "    39 : \"Soja\",\n",
    "    20 : \"Cana\",\n",
    "    40 : \"Arroz (beta)\",\n",
    "    62 : \"Algodão (beta)\",\n",
    "    41 : \"Outras Lavouras Temporárias\",\n",
    "    36 : \"Lavoura Perene\",\n",
    "    46 : \"Café\",\n",
    "    47 : \"Citrus\",\n",
    "    48 : \"Outras Lavouras Perenes\",\n",
    "    9 : \"Silvicultura\",\n",
    "    21 : \"Mosaico de Usos\",\n",
    "    22 : \"Área não Vegetada\",\n",
    "    23 : \"Praia, Duna e Areal\",\n",
    "    24 : \"Área Urbanizada\",\n",
    "    30 : \"Mineração\",\n",
    "    25 : \"Outras Áreas não Vegetadas\",\n",
    "    26 : \"Corpo D'água\",\n",
    "    33 : \"Rio, Lago e Oceano\",\n",
    "    31 : \"Aquicultura\",\n",
    "    27 : \"Não Observado\"\n",
    "}\n",
    "\n",
    "quarto_inventario_legenda = {\n",
    "    1 : \"Floresta manejada (FM)\",\n",
    "    2 : \"Floresta não manejada (FNM)\",\n",
    "    3 : \"Floresta secundária (FSec)\",\n",
    "    4 : \"Corte seletivo (CS)\",\n",
    "    5 : \"Reflorestamento (Ref)\",\n",
    "    6 : \"Campo manejado (GM)\",\n",
    "    7 : \"Campo não manejado (GNM)\",\n",
    "    8 : \"Campo secundário (GSec)\",\n",
    "    9 : \"Pastagem (Ap)\",\n",
    "    10 : \"Pastagem degradada (APD)\",\n",
    "    11 : \"Outras formações lenhosas manejadas (OFLM)\",\n",
    "    12 : \"Outras formações lenhosas não manejadas (OFLNM)\",\n",
    "    13 : \"Outras formações lenhosas secundárias (OFLSec)\"\n",
    "}"
   ]
  }
 ],
 "metadata": {
  "language_info": {
   "name": "python"
  },
  "orig_nbformat": 4
 },
 "nbformat": 4,
 "nbformat_minor": 2
}
