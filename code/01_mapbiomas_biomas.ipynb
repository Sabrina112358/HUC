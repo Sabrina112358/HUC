{
 "cells": [
  {
   "attachments": {},
   "cell_type": "markdown",
   "metadata": {},
   "source": [
    "# Pré-processamento: Parte II"
   ]
  },
  {
   "attachments": {},
   "cell_type": "markdown",
   "metadata": {},
   "source": [
    "## Importar os pacotes que serão usados"
   ]
  },
  {
   "cell_type": "code",
   "execution_count": null,
   "metadata": {},
   "outputs": [],
   "source": [
    "import os\n",
    "import numpy as np\n",
    "from osgeo import gdal\n",
    "from osgeo.gdalconst import GA_ReadOnly\n",
    "from multiprocessing import Pool, Manager, cpu_count\n",
    "from osgeo_utils.gdal_calc import *\n",
    "from concurrent.futures import ProcessPoolExecutor"
   ]
  },
  {
   "attachments": {},
   "cell_type": "markdown",
   "metadata": {},
   "source": [
    "## Criar o retângulo envolvente"
   ]
  },
  {
   "attachments": {},
   "cell_type": "markdown",
   "metadata": {},
   "source": [
    "Por questões de otimização e para que o código a seguir pudesse ser paralelizado a fim de tornar o processo mais rápido e eficiente, o código abaixo recorta do rasterd do Brasil do MapBiomas o menor retângulo possível que envolve cada bioma.\n",
    "O tamanho desse retângulo é dado pela extensão das máscaras de bioma criadas a partir dos rasters do inventário no processo anterior."
   ]
  },
  {
   "cell_type": "code",
   "execution_count": null,
   "metadata": {},
   "outputs": [],
   "source": [
    "def process_file(arquivo):\n",
    "    print(f\"Process for {arquivo} started...\\n\")\n",
    "    # ler o arquivo que sera usado para pegar a extensao do recorte\n",
    "    read_file = rf\"{pasta}/{arquivo}\"\n",
    "    Image = gdal.Open(read_file)\n",
    "\n",
    "    # aqui será extraído um recorte da seguinte extensão do SRC:\n",
    "    gt = Image.GetGeoTransform()\n",
    "\n",
    "    ulx = gt[0]\n",
    "    uly = gt[3]\n",
    "    lrx = ulx + gt[1] * Image.RasterXSize\n",
    "    lry = uly + gt[5] * Image.RasterYSize\n",
    "\n",
    "    # texto padronizado para definir o sistema de projeção:\n",
    "    gp = Image.GetProjection()\n",
    "\n",
    "    # abrir camada de entrada que sera recortada\n",
    "    src_f = '../dados/mapbiomas_v7_2016/mapa_brasil/mapbiomas_v7_sirgas2000.tif'\n",
    "    src_ds = gdal.Open(src_f, 0)  # carrega a camada raster em um objeto \"dataset\"\n",
    " \n",
    "    # definir o nome da camada de saída\n",
    "    out_f = f\"../dados/mapbiomas_v7_2016/bounding_box/bb{arquivo.split('inventario')[1]}\"  # incluir a extensão de saída\n",
    "\n",
    "    # definição das opções em um objeto de opções\n",
    "    options = gdal.TranslateOptions(format='GTiff', bandList=[1], projWin=[ulx, uly, lrx, lry], projWinSRS=gp, noData=0, outputType=gdal.GDT_Byte)  \n",
    "    \n",
    "    # convocar a função Translate e passar o objeto opts no parâmetro 'options'\n",
    "    out_ds = gdal.Translate(destName=out_f, srcDS=src_ds, options=options)\n",
    "    \n",
    "    # fechar os datasets:\n",
    "    src_ds = None\n",
    "    out_ds = None\n",
    "    Image = None\n",
    "    \n",
    "    return arquivo\n",
    "\n",
    "def handle_result(result):\n",
    "    print(f\"Process for {result} has finished.\")\n",
    "\n",
    "if __name__ == '__main__':\n",
    "    # Especifica o caminho da pasta que contém os arquivos\n",
    "    pasta = '../dados/inventario_v4_2016/inventario_biomas_rasters'\n",
    "\n",
    "    # Obtém a lista de arquivos na pasta\n",
    "    arquivos = os.listdir(pasta)\n",
    "\n",
    "    # Cria uma pool de processos\n",
    "    with Pool(processes=3) as pool, Manager() as manager:\n",
    "        # Cria um dicionário para armazenar os resultados\n",
    "        results_dict = manager.dict()\n",
    "\n",
    "        # Submete tarefas assíncronas para cada arquivo na pasta\n",
    "        results = [pool.apply_async(process_file, args=(arquivo,), callback=handle_result) for arquivo in arquivos]\n",
    "\n",
    "        # Espera todas as tarefas completarem\n",
    "        for result in results:\n",
    "            result.wait()\n",
    "\n",
    "        # Obtém os resultados\n",
    "        for result in results:\n",
    "            results_dict[result.get()] = True\n",
    "\n",
    "        # Verifica se todos os processos foram concluídos\n",
    "        while len(results_dict) != len(arquivos):\n",
    "            pass\n",
    "\n",
    "        print(\"All processes have finished.\")\n",
    "\n",
    "        # Aguarda todos os processos terminarem\n",
    "        pool.close()\n",
    "        pool.join()"
   ]
  },
  {
   "attachments": {},
   "cell_type": "markdown",
   "metadata": {},
   "source": [
    "## Recortar o retângulo envolvente usando a máscara de biomas"
   ]
  },
  {
   "attachments": {},
   "cell_type": "markdown",
   "metadata": {},
   "source": [
    "A partir dos retângulo envolvente de cada bioma e da máscara de"
   ]
  },
  {
   "cell_type": "code",
   "execution_count": null,
   "metadata": {},
   "outputs": [],
   "source": [
    "# Supress the warning\n",
    "np.seterr(divide='ignore', invalid='ignore')\n",
    "\n",
    "# Função que processa um arquivo\n",
    "def process_file(arquivo, pasta_biomas_mask, n_processo, status):\n",
    "    print(f\"Processo {n_processo}: processando o arquivo {arquivo}...\\n\")\n",
    "    A=f\"../dados/biomas_mask/{arquivo}\"\n",
    "    B=f\"../dados/mapbiomas_v7_2016/bounding_box/bb{arquivo.split('mask')[1]}\"\n",
    "    outfile=f\"../dados/mapbiomas_v7_2016/biomas/mapbiomas{arquivo.split('mask')[1]}\"\n",
    "    calc=\"(A>0)*B\"\n",
    "\n",
    "\n",
    "    gdal_call = f'gdal_calc.py --calc=\"{calc}\" --outfile={outfile} -A {A} -B {B} --type=Byte --overwrite --quiet'\n",
    "    print(gdal_call)\n",
    "    os.system(gdal_call)\n",
    "\n",
    "    \n",
    "    print(f\"Processo {n_processo}: o arquivo {arquivo} foi processado com sucesso!\\n\")\n",
    "    status[arquivo] = False\n",
    "\n",
    "\n",
    "if __name__ == '__main__':\n",
    "    # Especifica o caminho da pasta que contém os arquivos\n",
    "    pasta_biomas_mask = '../dados/biomas_mask'\n",
    "\n",
    "    # Obtém a lista de arquivos na pasta\n",
    "    arquivos = os.listdir(pasta_biomas_mask)\n",
    "\n",
    "    # Define o número máximo de processos em execução simultaneamente\n",
    "    max_processes = 3\n",
    "\n",
    "    # Inicializa o pool de processos e o objeto Manager para compartilhar dados entre processos\n",
    "    pool = Pool(processes=max_processes)\n",
    "    manager = Manager()\n",
    "\n",
    "    # Cria um dicionário compartilhado para armazenar o status de processamento de cada arquivo\n",
    "    status = manager.dict([(arquivo, False) for arquivo in arquivos])\n",
    "    print(status)\n",
    "\n",
    "    # Loop pelos arquivos e executa o mesmo processo em cada um, usando o pool de processos\n",
    "    for i, arquivo in enumerate(arquivos):\n",
    "       \n",
    "        # Aguarda até que haja um processo livre para executar o próximo arquivo\n",
    "        while True:\n",
    "            if sum(status.values()) < max_processes:\n",
    "                break\n",
    "\n",
    "        # Define o status do arquivo como \"em processamento\"\n",
    "        status[arquivo] = True\n",
    "\n",
    "        # Processa o arquivo em um novo processo\n",
    "        pool.apply_async(process_file, args=(arquivo, pasta_biomas_mask, i, status))\n",
    "\n",
    "    # Aguarda todos os processos terminarem\n",
    "    pool.close()\n",
    "    pool.join()\n",
    "\n",
    "    # Verifica se todos os processos foram finalizados\n",
    "    if sum(status.values()) == 0:\n",
    "        print(\"Todos os arquivos foram processados com sucesso!\")"
   ]
  },
  {
   "attachments": {},
   "cell_type": "markdown",
   "metadata": {},
   "source": [
    "## Gerar os mapas de UCT por bioma"
   ]
  },
  {
   "attachments": {},
   "cell_type": "markdown",
   "metadata": {},
   "source": [
    "Usar o retângulo envolvente e uma máscara binária para selecionar a região que será comparada"
   ]
  },
  {
   "cell_type": "code",
   "execution_count": null,
   "metadata": {},
   "outputs": [],
   "source": [
    "# Supress the warning\n",
    "np.seterr(divide='ignore', invalid='ignore')\n",
    "\n",
    "# Especifica o caminho da pasta que contém os arquivos\n",
    "pasta_biomas_mask = '../dados/biomas_mask'\n",
    "\n",
    "# Obtém a lista de arquivos na pasta\n",
    "arquivos = os.listdir(pasta_biomas_mask)\n",
    "\n",
    "for arquivo in arquivos:\n",
    "\n",
    "    print(f\"Processo: processando o arquivo {arquivo}...\\n\")\n",
    "    A=f\"../dados/biomas_mask/{arquivo}\"\n",
    "    B=f\"../dados/mapbiomas_v7_2016/bounding_box/bb{arquivo.split('mask')[1]}\"\n",
    "    outfile=f\"../dados/mapbiomas_v7_2016/biomas/mapbiomas{arquivo.split('mask')[1]}\"\n",
    "\n",
    "    Calc(\"(A > 0) * B \", \n",
    "            A=A, \n",
    "            B=B, \n",
    "            outfile=outfile,\n",
    "            type='Byte', overwrite=True, extent='intersect', quiet=True)\n",
    "    \n",
    "    print(f\"Processo: o arquivo {arquivo} foi processado com sucesso!\\n\")\n",
    "    \n",
    "print(\"Todos os arquivos foram processados com sucesso!\")"
   ]
  }
 ],
 "metadata": {
  "kernelspec": {
   "display_name": "env",
   "language": "python",
   "name": "python3"
  },
  "language_info": {
   "codemirror_mode": {
    "name": "ipython",
    "version": 3
   },
   "file_extension": ".py",
   "mimetype": "text/x-python",
   "name": "python",
   "nbconvert_exporter": "python",
   "pygments_lexer": "ipython3",
   "version": "3.9.15"
  },
  "orig_nbformat": 4
 },
 "nbformat": 4,
 "nbformat_minor": 2
}
